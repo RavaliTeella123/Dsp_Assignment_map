{
  "cells": [
    {
      "cell_type": "code",
      "execution_count": null,
      "metadata": {
        "colab": {
          "base_uri": "https://localhost:8080/",
          "height": 763
        },
        "id": "q8wrotSu2PfE",
        "outputId": "e6423652-1e2b-41f1-e44c-24d3c96a2880"
      },
      "outputs": [
        {
          "data": {
            "text/html": [
              "<div style=\"width:100%;\"><div style=\"position:relative;width:100%;height:0;padding-bottom:60%;\"><span style=\"color:#565656\">Make this Notebook Trusted to load map: File -> Trust Notebook</span><iframe srcdoc=\"&lt;!DOCTYPE html&gt;\n",
              "&lt;head&gt;    \n",
              "    &lt;meta http-equiv=&quot;content-type&quot; content=&quot;text/html; charset=UTF-8&quot; /&gt;\n",
              "    \n",
              "        &lt;script&gt;\n",
              "            L_NO_TOUCH = false;\n",
              "            L_DISABLE_3D = false;\n",
              "        &lt;/script&gt;\n",
              "    \n",
              "    &lt;style&gt;html, body {width: 100%;height: 100%;margin: 0;padding: 0;}&lt;/style&gt;\n",
              "    &lt;style&gt;#map {position:absolute;top:0;bottom:0;right:0;left:0;}&lt;/style&gt;\n",
              "    &lt;script src=&quot;https://cdn.jsdelivr.net/npm/leaflet@1.6.0/dist/leaflet.js&quot;&gt;&lt;/script&gt;\n",
              "    &lt;script src=&quot;https://code.jquery.com/jquery-1.12.4.min.js&quot;&gt;&lt;/script&gt;\n",
              "    &lt;script src=&quot;https://maxcdn.bootstrapcdn.com/bootstrap/3.2.0/js/bootstrap.min.js&quot;&gt;&lt;/script&gt;\n",
              "    &lt;script src=&quot;https://cdnjs.cloudflare.com/ajax/libs/Leaflet.awesome-markers/2.0.2/leaflet.awesome-markers.js&quot;&gt;&lt;/script&gt;\n",
              "    &lt;link rel=&quot;stylesheet&quot; href=&quot;https://cdn.jsdelivr.net/npm/leaflet@1.6.0/dist/leaflet.css&quot;/&gt;\n",
              "    &lt;link rel=&quot;stylesheet&quot; href=&quot;https://maxcdn.bootstrapcdn.com/bootstrap/3.2.0/css/bootstrap.min.css&quot;/&gt;\n",
              "    &lt;link rel=&quot;stylesheet&quot; href=&quot;https://maxcdn.bootstrapcdn.com/bootstrap/3.2.0/css/bootstrap-theme.min.css&quot;/&gt;\n",
              "    &lt;link rel=&quot;stylesheet&quot; href=&quot;https://maxcdn.bootstrapcdn.com/font-awesome/4.6.3/css/font-awesome.min.css&quot;/&gt;\n",
              "    &lt;link rel=&quot;stylesheet&quot; href=&quot;https://cdnjs.cloudflare.com/ajax/libs/Leaflet.awesome-markers/2.0.2/leaflet.awesome-markers.css&quot;/&gt;\n",
              "    &lt;link rel=&quot;stylesheet&quot; href=&quot;https://cdn.jsdelivr.net/gh/python-visualization/folium/folium/templates/leaflet.awesome.rotate.min.css&quot;/&gt;\n",
              "    \n",
              "            &lt;meta name=&quot;viewport&quot; content=&quot;width=device-width,\n",
              "                initial-scale=1.0, maximum-scale=1.0, user-scalable=no&quot; /&gt;\n",
              "            &lt;style&gt;\n",
              "                #map_789790b3e190284785dba09530746174 {\n",
              "                    position: relative;\n",
              "                    width: 100.0%;\n",
              "                    height: 100.0%;\n",
              "                    left: 0.0%;\n",
              "                    top: 0.0%;\n",
              "                }\n",
              "            &lt;/style&gt;\n",
              "        \n",
              "&lt;/head&gt;\n",
              "&lt;body&gt;    \n",
              "    \n",
              "            &lt;div class=&quot;folium-map&quot; id=&quot;map_789790b3e190284785dba09530746174&quot; &gt;&lt;/div&gt;\n",
              "        \n",
              "&lt;/body&gt;\n",
              "&lt;script&gt;    \n",
              "    \n",
              "            var map_789790b3e190284785dba09530746174 = L.map(\n",
              "                &quot;map_789790b3e190284785dba09530746174&quot;,\n",
              "                {\n",
              "                    center: [0, 0],\n",
              "                    crs: L.CRS.EPSG3857,\n",
              "                    zoom: 1,\n",
              "                    zoomControl: true,\n",
              "                    preferCanvas: false,\n",
              "                }\n",
              "            );\n",
              "\n",
              "            \n",
              "\n",
              "        \n",
              "    \n",
              "            var tile_layer_df81b05a7051fab52d2777a0e906115a = L.tileLayer(\n",
              "                &quot;https://{s}.tile.openstreetmap.org/{z}/{x}/{y}.png&quot;,\n",
              "                {&quot;attribution&quot;: &quot;Data by \\u0026copy; \\u003ca href=\\&quot;http://openstreetmap.org\\&quot;\\u003eOpenStreetMap\\u003c/a\\u003e, under \\u003ca href=\\&quot;http://www.openstreetmap.org/copyright\\&quot;\\u003eODbL\\u003c/a\\u003e.&quot;, &quot;detectRetina&quot;: false, &quot;maxNativeZoom&quot;: 18, &quot;maxZoom&quot;: 18, &quot;minZoom&quot;: 0, &quot;noWrap&quot;: false, &quot;opacity&quot;: 1, &quot;subdomains&quot;: &quot;abc&quot;, &quot;tms&quot;: false}\n",
              "            ).addTo(map_789790b3e190284785dba09530746174);\n",
              "        \n",
              "&lt;/script&gt;\" style=\"position:absolute;width:100%;height:100%;left:0;top:0;border:none !important;\" allowfullscreen webkitallowfullscreen mozallowfullscreen></iframe></div></div>"
            ],
            "text/plain": [
              "<folium.folium.Map at 0x7f861a1da7d0>"
            ]
          },
          "execution_count": 1,
          "metadata": {},
          "output_type": "execute_result"
        }
      ],
      "source": [
        "import folium\n",
        "# define the world map\n",
        "world_map =folium.Map()\n",
        "\n",
        "# display world map\n",
        "world_map"
      ]
    },
    {
      "cell_type": "code",
      "execution_count": null,
      "metadata": {
        "colab": {
          "background_save": true
        },
        "id": "PWB4hlHS3D-s",
        "outputId": "9a8cae41-50d7-42a0-81d4-41446346d480"
      },
      "outputs": [
        {
          "data": {
            "text/html": [
              "<div style=\"width:100%;\"><div style=\"position:relative;width:100%;height:0;padding-bottom:60%;\"><span style=\"color:#565656\">Make this Notebook Trusted to load map: File -> Trust Notebook</span><iframe srcdoc=\"&lt;!DOCTYPE html&gt;\n",
              "&lt;head&gt;    \n",
              "    &lt;meta http-equiv=&quot;content-type&quot; content=&quot;text/html; charset=UTF-8&quot; /&gt;\n",
              "    \n",
              "        &lt;script&gt;\n",
              "            L_NO_TOUCH = false;\n",
              "            L_DISABLE_3D = false;\n",
              "        &lt;/script&gt;\n",
              "    \n",
              "    &lt;style&gt;html, body {width: 100%;height: 100%;margin: 0;padding: 0;}&lt;/style&gt;\n",
              "    &lt;style&gt;#map {position:absolute;top:0;bottom:0;right:0;left:0;}&lt;/style&gt;\n",
              "    &lt;script src=&quot;https://cdn.jsdelivr.net/npm/leaflet@1.6.0/dist/leaflet.js&quot;&gt;&lt;/script&gt;\n",
              "    &lt;script src=&quot;https://code.jquery.com/jquery-1.12.4.min.js&quot;&gt;&lt;/script&gt;\n",
              "    &lt;script src=&quot;https://maxcdn.bootstrapcdn.com/bootstrap/3.2.0/js/bootstrap.min.js&quot;&gt;&lt;/script&gt;\n",
              "    &lt;script src=&quot;https://cdnjs.cloudflare.com/ajax/libs/Leaflet.awesome-markers/2.0.2/leaflet.awesome-markers.js&quot;&gt;&lt;/script&gt;\n",
              "    &lt;link rel=&quot;stylesheet&quot; href=&quot;https://cdn.jsdelivr.net/npm/leaflet@1.6.0/dist/leaflet.css&quot;/&gt;\n",
              "    &lt;link rel=&quot;stylesheet&quot; href=&quot;https://maxcdn.bootstrapcdn.com/bootstrap/3.2.0/css/bootstrap.min.css&quot;/&gt;\n",
              "    &lt;link rel=&quot;stylesheet&quot; href=&quot;https://maxcdn.bootstrapcdn.com/bootstrap/3.2.0/css/bootstrap-theme.min.css&quot;/&gt;\n",
              "    &lt;link rel=&quot;stylesheet&quot; href=&quot;https://maxcdn.bootstrapcdn.com/font-awesome/4.6.3/css/font-awesome.min.css&quot;/&gt;\n",
              "    &lt;link rel=&quot;stylesheet&quot; href=&quot;https://cdnjs.cloudflare.com/ajax/libs/Leaflet.awesome-markers/2.0.2/leaflet.awesome-markers.css&quot;/&gt;\n",
              "    &lt;link rel=&quot;stylesheet&quot; href=&quot;https://cdn.jsdelivr.net/gh/python-visualization/folium/folium/templates/leaflet.awesome.rotate.min.css&quot;/&gt;\n",
              "    \n",
              "            &lt;meta name=&quot;viewport&quot; content=&quot;width=device-width,\n",
              "                initial-scale=1.0, maximum-scale=1.0, user-scalable=no&quot; /&gt;\n",
              "            &lt;style&gt;\n",
              "                #map_98dc7d53b533ffaf26b9f4c7dc3877a7 {\n",
              "                    position: relative;\n",
              "                    width: 100.0%;\n",
              "                    height: 100.0%;\n",
              "                    left: 0.0%;\n",
              "                    top: 0.0%;\n",
              "                }\n",
              "            &lt;/style&gt;\n",
              "        \n",
              "&lt;/head&gt;\n",
              "&lt;body&gt;    \n",
              "    \n",
              "            &lt;div class=&quot;folium-map&quot; id=&quot;map_98dc7d53b533ffaf26b9f4c7dc3877a7&quot; &gt;&lt;/div&gt;\n",
              "        \n",
              "&lt;/body&gt;\n",
              "&lt;script&gt;    \n",
              "    \n",
              "            var map_98dc7d53b533ffaf26b9f4c7dc3877a7 = L.map(\n",
              "                &quot;map_98dc7d53b533ffaf26b9f4c7dc3877a7&quot;,\n",
              "                {\n",
              "                    center: [18.1067, 83.3956],\n",
              "                    crs: L.CRS.EPSG3857,\n",
              "                    zoom: 10,\n",
              "                    zoomControl: true,\n",
              "                    preferCanvas: false,\n",
              "                }\n",
              "            );\n",
              "\n",
              "            \n",
              "\n",
              "        \n",
              "    \n",
              "            var tile_layer_31509fae43cda85f130c1e6a548a080a = L.tileLayer(\n",
              "                &quot;https://{s}.tile.openstreetmap.org/{z}/{x}/{y}.png&quot;,\n",
              "                {&quot;attribution&quot;: &quot;Data by \\u0026copy; \\u003ca href=\\&quot;http://openstreetmap.org\\&quot;\\u003eOpenStreetMap\\u003c/a\\u003e, under \\u003ca href=\\&quot;http://www.openstreetmap.org/copyright\\&quot;\\u003eODbL\\u003c/a\\u003e.&quot;, &quot;detectRetina&quot;: false, &quot;maxNativeZoom&quot;: 18, &quot;maxZoom&quot;: 18, &quot;minZoom&quot;: 0, &quot;noWrap&quot;: false, &quot;opacity&quot;: 1, &quot;subdomains&quot;: &quot;abc&quot;, &quot;tms&quot;: false}\n",
              "            ).addTo(map_98dc7d53b533ffaf26b9f4c7dc3877a7);\n",
              "        \n",
              "&lt;/script&gt;\" style=\"position:absolute;width:100%;height:100%;left:0;top:0;border:none !important;\" allowfullscreen webkitallowfullscreen mozallowfullscreen></iframe></div></div>"
            ],
            "text/plain": [
              "<folium.folium.Map at 0x7f860fdc8290>"
            ]
          },
          "execution_count": 2,
          "metadata": {},
          "output_type": "execute_result"
        }
      ],
      "source": [
        ""
      ]
    },
    {
      "cell_type": "code",
      "source": [
        "folium.Marker(location=[17.363314136503238, 82.5396386492195],popup='<h3 style=\"color:red;\">Marker10</h3>',tooltip='<strong>cycle shop</strong>',icon=folium.Icon(color='pink',prefix='fa',icon='bicycle')).add_to(map9)\n"
      ],
      "metadata": {
        "id": "281yxpeCfgTG"
      },
      "execution_count": null,
      "outputs": []
    },
    {
      "cell_type": "code",
      "source": [
        "\n",
        "coords_12=[[16.786280373283, 80.8484567581661],[16.77707673761769, 80.87901248425977],[16.785951679686974, 80.95214023322553],\n",
        "           [16.735983644360275, 81.06681003277286],[16.712309998280265, 81.09496249951084],[16.71837145861124, 81.11680646423024],\n",
        "           [16.81567452392289, 81.24040265966536],[17.046897028606395, 81.53703352870959],[17.00356447351315, 81.80207870336486],\n",
        "           [17.368556910786822, 82.54809239558186],[17.695930949195294, 83.21825843305217],[17.921202710285645, 83.18732627810975],\n",
        "           [18.05182039722915, 83.31092247354485],[18.10795622237225, 83.3988131014098]]\n",
        "coords_23=[[16.777076737330464, 80.87969912864854],[16.715598180531835, 81.02011813957343],[16.73466851904225, 81.06681003562666],\n",
        "           [16.81041617259755, 81.24726911496731],[16.820932729406305, 81.56999251415895],[17.004877728633392, 81.80207870336486],\n",
        "           [17.100984990755812, 82.23498203381295],[17.368556910786822, 82.55083897770264],[17.695930949195294, 83.21825843305217],\n",
        "           [17.752563637980618, 83.21616539037794],[17.8833055281388, 83.30680260036367],[18.10795622237225, 83.3988131014098]]\n",
        "import folium \n",
        "from branca.element import Figure\n",
        "fig234=Figure(height=550,width=750)\n",
        "map9=folium.Map(location=[16.82365919254232, 80.83481632385855],tiles='cartodbpositron',zoom_start=10)\n",
        "fig234.add_child(map9)\n",
        "map9\n",
        "f7=folium.FeatureGroup(\"Vehicle 1\")\n",
        "f8=folium.FeatureGroup(\"Vehicle 2\")\n",
        "\n",
        "\n",
        "#Adding markers to the map\n",
        "folium.Marker(location=[16.786280373283, 80.8484567581661],popup='Default popup Marker1',tooltip='University',icon=folium.Icon(color='red',prefix='fa',icon='university')).add_to(map9)\n",
        "folium.Marker(location=[18.10795622237225, 83.3988131014098],popup='<strong>Marker2</strong>',tooltip='<strong>Home</strong>',icon=folium.Icon(color='green',prefix='fa',icon='home')).add_to(map9)\n",
        "folium.Marker(location=[16.813045366487952, 81.24177595072571],popup='<h3 style=\"color:green;\">Marker3</h3>',tooltip='<strong>Hospital</strong>',icon=folium.Icon(color='blue',prefix='fa',icon='medkit')).add_to(map9)\n",
        "folium.Marker(location=[16.715598180531835, 81.02011813957343],popup='<h3 style=\"color:green;\">Marker4</h3>',tooltip='<strong>shoping mall</strong>',icon=folium.Icon(color='blue',prefix='fa',icon='shopping-bag')).add_to(map9)\n",
        "folium.Marker(location=[16.785951679686974, 80.95214023322553],popup='<h3 style=\"color:blue;\">Marker7</h3>',tooltip='<strong>Bus stand</strong>',icon=folium.Icon(color='green',prefix='fa',icon='bus')).add_to(map9)\n",
        "folium.Marker(location=[16.813045366487952, 81.24177595072571],popup='<h3 style=\"color:green;\">Marker8</h3>',tooltip='<strong>clinic</strong>',icon=folium.Icon(color='blue',prefix='fa',icon='medkit')).add_to(map9)\n",
        "folium.Marker(location=[16.999624652926148, 81.79933212124406],popup='<h3 style=\"color:green;\">Marker9</h3>',tooltip='<strong>Railway station</strong>',icon=folium.Icon(color='orange',prefix='fa',icon='subway')).add_to(map9)\n",
        "folium.Marker(location=[17.363314136503238, 82.5396386492195],popup='<h3 style=\"color:red;\">Marker10</h3>',tooltip='<strong>cycle shop</strong>',icon=folium.Icon(color='pink',prefix='fa',icon='bicycle')).add_to(map9)\n",
        "folium.Marker(location=[17.93960342600162, 83.18595493708847],popup='<h3 style=\"color:green;\">Marker11</h3>',tooltip='<strong>car showroom</strong>',icon=folium.Icon(color='red',prefix='fa',icon='car')).add_to(map9)\n",
        "folium.Marker(location=[17.69249880932916, 83.21891392253784],popup='<h3 style=\"color:green;\">Marker12</h3>',tooltip='<strong>Air port</strong>',icon=folium.Icon(color='blue',prefix='fa',icon='plane')).add_to(map9)\n",
        "folium.Marker(location=[17.886027843734464, 83.30405796828201],popup='<h3 style=\"color:blue;\">Marker13</h3>',tooltip='<strong>charging station</strong>',icon=folium.Icon(color='blue',prefix='fa',icon='battery-full')).add_to(map9)\n",
        "\n",
        "# Adding lines to the different feature groups\n",
        "line_1=folium.vector_layers.PolyLine(coords_12,popup='<b>Path of Vehicle_1</b>',tooltip='Vehicle_1',color='blue',weight=10).add_to(f7)\n",
        "line_2=folium.vector_layers.PolyLine(coords_23,popup='<b>Path of Vehicle_2</b>',tooltip='Vehicle_2',color='red',weight=10).add_to(f8)\n",
        "line_2=folium.vector_layers.PolyLine(coords_23,popup='<b>Path of Vehicle_2</b>',tooltip='Vehicle_2',color='red',weight=10).add_to(f8)\n",
        "f7.add_to(map9)\n",
        "f8.add_to(map9)\n",
        "folium.LayerControl().add_to(map9)\n",
        "map9\n",
        " \n",
        " "
      ],
      "metadata": {
        "id": "H5VX6AF9fqRd"
      },
      "execution_count": null,
      "outputs": []
    }
  ],
  "metadata": {
    "colab": {
      "name": "DSP-Assignmenton maps.ipynb",
      "provenance": []
    },
    "kernelspec": {
      "display_name": "Python 3",
      "name": "python3"
    },
    "language_info": {
      "name": "python"
    }
  },
  "nbformat": 4,
  "nbformat_minor": 0
}