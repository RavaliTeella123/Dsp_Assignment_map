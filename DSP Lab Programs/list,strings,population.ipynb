{
 "cells": [
  {
   "cell_type": "code",
   "execution_count": 1,
   "metadata": {},
   "outputs": [
    {
     "data": {
      "text/plain": [
       "'Teella ravali'"
      ]
     },
     "execution_count": 1,
     "metadata": {},
     "output_type": "execute_result"
    }
   ],
   "source": [
    "s1=\"teella ravali\"\n",
    "s1.capitalize()"
   ]
  },
  {
   "cell_type": "code",
   "execution_count": 2,
   "metadata": {},
   "outputs": [
    {
     "name": "stdout",
     "output_type": "stream",
     "text": [
      "1\n"
     ]
    }
   ],
   "source": [
    "string1=\"iiit rgukt sklm srikakulam\"\n",
    "substring=\"rgukt\"\n",
    "count=string1.count(substring)\n",
    "print(count)"
   ]
  },
  {
   "cell_type": "code",
   "execution_count": 3,
   "metadata": {},
   "outputs": [
    {
     "data": {
      "text/plain": [
       "True"
      ]
     },
     "execution_count": 3,
     "metadata": {},
     "output_type": "execute_result"
    }
   ],
   "source": [
    "s1=\"ravali\"\n",
    "s1.isalpha()"
   ]
  },
  {
   "cell_type": "code",
   "execution_count": 5,
   "metadata": {},
   "outputs": [
    {
     "data": {
      "text/plain": [
       "True"
      ]
     },
     "execution_count": 5,
     "metadata": {},
     "output_type": "execute_result"
    }
   ],
   "source": [
    "s1=\"1234\"\n",
    "s1.isdigit()"
   ]
  },
  {
   "cell_type": "code",
   "execution_count": 6,
   "metadata": {},
   "outputs": [
    {
     "data": {
      "text/plain": [
       "True"
      ]
     },
     "execution_count": 6,
     "metadata": {},
     "output_type": "execute_result"
    }
   ],
   "source": [
    "s1=\"ravali\"\n",
    "s1.islower()"
   ]
  },
  {
   "cell_type": "code",
   "execution_count": 8,
   "metadata": {},
   "outputs": [
    {
     "data": {
      "text/plain": [
       "True"
      ]
     },
     "execution_count": 8,
     "metadata": {},
     "output_type": "execute_result"
    }
   ],
   "source": [
    "s=\"S\"\n",
    "s.isspace()\n",
    "s1=\" \"\n",
    "s1.isspace()"
   ]
  },
  {
   "cell_type": "code",
   "execution_count": 9,
   "metadata": {},
   "outputs": [
    {
     "data": {
      "text/plain": [
       "True"
      ]
     },
     "execution_count": 9,
     "metadata": {},
     "output_type": "execute_result"
    }
   ],
   "source": [
    "s1=\"Rgukt Sklm\"\n",
    "s1.istitle()"
   ]
  },
  {
   "cell_type": "code",
   "execution_count": 10,
   "metadata": {},
   "outputs": [
    {
     "data": {
      "text/plain": [
       "'RAVALI'"
      ]
     },
     "execution_count": 10,
     "metadata": {},
     "output_type": "execute_result"
    }
   ],
   "source": [
    "s1=\"ravali\"\n",
    "s1.upper()"
   ]
  },
  {
   "cell_type": "code",
   "execution_count": 12,
   "metadata": {},
   "outputs": [
    {
     "data": {
      "text/plain": [
       "('python ', 'is', ' fun')"
      ]
     },
     "execution_count": 12,
     "metadata": {},
     "output_type": "execute_result"
    }
   ],
   "source": [
    "s=\"python is fun\"\n",
    "s.partition(\"is\")"
   ]
  },
  {
   "cell_type": "code",
   "execution_count": 14,
   "metadata": {},
   "outputs": [
    {
     "name": "stdout",
     "output_type": "stream",
     "text": [
      "ravali@surya@jyo\n"
     ]
    }
   ],
   "source": [
    "Tuple=(\"ravali\",\"surya\",\"jyo\")\n",
    "x=\"@\".join(Tuple)\n",
    "print(x)"
   ]
  },
  {
   "cell_type": "code",
   "execution_count": 15,
   "metadata": {},
   "outputs": [
    {
     "name": "stdout",
     "output_type": "stream",
     "text": [
      "surya,surya ravali\n"
     ]
    }
   ],
   "source": [
    "s=\"surya,teella ravali\"\n",
    "print(s.replace(\"teella\",\"surya\"))\n"
   ]
  },
  {
   "cell_type": "code",
   "execution_count": 16,
   "metadata": {},
   "outputs": [
    {
     "data": {
      "text/plain": [
       "['ravali,hema,sneha']"
      ]
     },
     "execution_count": 16,
     "metadata": {},
     "output_type": "execute_result"
    }
   ],
   "source": [
    "s=\"ravali,hema,sneha\"\n",
    "s.split()"
   ]
  },
  {
   "cell_type": "code",
   "execution_count": 17,
   "metadata": {},
   "outputs": [
    {
     "data": {
      "text/plain": [
       "'tEELLA rAVALI S180233'"
      ]
     },
     "execution_count": 17,
     "metadata": {},
     "output_type": "execute_result"
    }
   ],
   "source": [
    "s=\"Teella Ravali s180233\"\n",
    "s.swapcase()"
   ]
  },
  {
   "cell_type": "code",
   "execution_count": 18,
   "metadata": {},
   "outputs": [
    {
     "name": "stdout",
     "output_type": "stream",
     "text": [
      "[1, 2, 3, 4]\n"
     ]
    }
   ],
   "source": [
    "l=[1,2,3,4]\n",
    "print(l)"
   ]
  },
  {
   "cell_type": "code",
   "execution_count": 23,
   "metadata": {},
   "outputs": [
    {
     "data": {
      "text/plain": [
       "1"
      ]
     },
     "execution_count": 23,
     "metadata": {},
     "output_type": "execute_result"
    }
   ],
   "source": [
    "L=[1,2,3,4,5]\n",
    "L[0]\n"
   ]
  },
  {
   "cell_type": "markdown",
   "metadata": {},
   "source": [
    "l1=[1,2,3]\n",
    "l2=[4,5,6]\n",
    "l1+l2"
   ]
  },
  {
   "cell_type": "code",
   "execution_count": 25,
   "metadata": {},
   "outputs": [
    {
     "data": {
      "text/plain": [
       "[1, 2, 3, 4, 5, 6]"
      ]
     },
     "execution_count": 25,
     "metadata": {},
     "output_type": "execute_result"
    }
   ],
   "source": [
    "l1=[1,2,3]\n",
    "l2=[4,5,6]\n",
    "l1+l2"
   ]
  },
  {
   "cell_type": "code",
   "execution_count": 34,
   "metadata": {},
   "outputs": [
    {
     "name": "stdout",
     "output_type": "stream",
     "text": [
      "[1, 2, 3, [5]]\n"
     ]
    }
   ],
   "source": [
    "L=[1,2,3]\n",
    "L.append([5])\n",
    "print(L)"
   ]
  },
  {
   "cell_type": "code",
   "execution_count": 35,
   "metadata": {},
   "outputs": [
    {
     "name": "stdout",
     "output_type": "stream",
     "text": [
      "[0, 1, 2, 3, 4]\n"
     ]
    }
   ],
   "source": [
    "l=[1,2,3,4]\n",
    "l.insert(0,0)\n",
    "print(l)"
   ]
  },
  {
   "cell_type": "code",
   "execution_count": 36,
   "metadata": {},
   "outputs": [
    {
     "name": "stdout",
     "output_type": "stream",
     "text": [
      "[1, 2, 3, 4, 5, 6, 7, 8]\n"
     ]
    }
   ],
   "source": [
    "l=[1,2,3,4,5]\n",
    "l.extend([6,7,8])\n",
    "print(l)"
   ]
  },
  {
   "cell_type": "code",
   "execution_count": 37,
   "metadata": {},
   "outputs": [
    {
     "name": "stdout",
     "output_type": "stream",
     "text": [
      "[0, 1, 2]\n"
     ]
    }
   ],
   "source": [
    "l=[5,0,1,2]\n",
    "del(l[0])\n",
    "print(l)"
   ]
  },
  {
   "cell_type": "code",
   "execution_count": 38,
   "metadata": {},
   "outputs": [
    {
     "name": "stdout",
     "output_type": "stream",
     "text": [
      "[1, 3, 4, 5]\n"
     ]
    }
   ],
   "source": [
    "l=[1,2,3,4,5]\n",
    "l.pop(1)\n",
    "print(l)"
   ]
  },
  {
   "cell_type": "code",
   "execution_count": 39,
   "metadata": {},
   "outputs": [
    {
     "name": "stdout",
     "output_type": "stream",
     "text": [
      "[0, 1, 3, 4]\n"
     ]
    }
   ],
   "source": [
    "l=[0,1,2,3,4]\n",
    "l.remove(2)\n",
    "print(l)"
   ]
  },
  {
   "cell_type": "code",
   "execution_count": 43,
   "metadata": {},
   "outputs": [
    {
     "name": "stdout",
     "output_type": "stream",
     "text": [
      "[2, 1, 3, 4]\n"
     ]
    }
   ],
   "source": [
    "l=[2,1,3,4]\n",
    "l.copy()\n",
    "print(l)"
   ]
  },
  {
   "cell_type": "code",
   "execution_count": 49,
   "metadata": {},
   "outputs": [
    {
     "data": {
      "text/plain": [
       "[2, 3, 4, 5]"
      ]
     },
     "execution_count": 49,
     "metadata": {},
     "output_type": "execute_result"
    }
   ],
   "source": [
    "l=[1,2,3,4,5,54]\n",
    "l[1:5]\n"
   ]
  },
  {
   "cell_type": "code",
   "execution_count": 51,
   "metadata": {},
   "outputs": [
    {
     "name": "stdout",
     "output_type": "stream",
     "text": [
      "[1, 3, 22, 23, 41]\n"
     ]
    }
   ],
   "source": [
    "l=[23,22,41,3,1]\n",
    "l.sort()\n",
    "print(l)"
   ]
  },
  {
   "cell_type": "code",
   "execution_count": 52,
   "metadata": {},
   "outputs": [
    {
     "name": "stdout",
     "output_type": "stream",
     "text": [
      "[6, 7, 8, 9]\n"
     ]
    }
   ],
   "source": [
    "l=[9,8,7,6]\n",
    "l.reverse()\n",
    "print(l)"
   ]
  },
  {
   "cell_type": "code",
   "execution_count": 55,
   "metadata": {},
   "outputs": [
    {
     "name": "stdout",
     "output_type": "stream",
     "text": [
      "4\n",
      "2\n",
      "1\n"
     ]
    }
   ],
   "source": [
    "l=[1,4,1,6,5,5,3,1,8,1]\n",
    "print(l.count(1))\n",
    "print(l.count(5))\n",
    "print(l.index(4))"
   ]
  },
  {
   "cell_type": "code",
   "execution_count": 71,
   "metadata": {},
   "outputs": [
    {
     "name": "stdout",
     "output_type": "stream",
     "text": [
      "3.2\n",
      "3.0\n",
      "0    1\n",
      "1    2\n",
      "2    3\n",
      "3    4\n",
      "4    6\n",
      "dtype: int64\n",
      "3.7\n",
      "1.9235384061671346\n"
     ]
    }
   ],
   "source": [
    "import pandas as np\n",
    "a=pd.Series([1,3,2,4,6])\n",
    "print(a.mean())\n",
    "print(a.median())\n",
    "print(a.mode())\n",
    "print(a.var())\n",
    "print(a.std())"
   ]
  },
  {
   "cell_type": "code",
   "execution_count": 73,
   "metadata": {},
   "outputs": [
    {
     "name": "stdout",
     "output_type": "stream",
     "text": [
      "6.8\n",
      "4.0\n",
      "0     1\n",
      "1     3\n",
      "2     4\n",
      "3     6\n",
      "4    20\n",
      "dtype: int64\n",
      "57.699999999999996\n",
      "7.596051605933177\n"
     ]
    }
   ],
   "source": [
    "import pandas as pd\n",
    "a=pd.Series([1,3,20,4,6])\n",
    "print(a.mean())\n",
    "print(a.median())\n",
    "print(a.mode())\n",
    "print(a.var())\n",
    "print(a.std())\n"
   ]
  },
  {
   "cell_type": "code",
   "execution_count": 74,
   "metadata": {},
   "outputs": [
    {
     "name": "stdout",
     "output_type": "stream",
     "text": [
      "14.0\n",
      "3.0\n",
      "0     1\n",
      "1     2\n",
      "2     3\n",
      "3     4\n",
      "4    60\n",
      "dtype: int64\n",
      "662.5\n",
      "25.739075352467502\n"
     ]
    }
   ],
   "source": [
    "import pandas as pd\n",
    "a=pd.Series([1,3,2,4,60])\n",
    "print(a.mean())\n",
    "print(a.median())\n",
    "print(a.mode())\n",
    "print(a.var())\n",
    "print(a.std())"
   ]
  },
  {
   "cell_type": "code",
   "execution_count": 2,
   "metadata": {},
   "outputs": [
    {
     "name": "stdout",
     "output_type": "stream",
     "text": [
      "17.4\n",
      "12.0\n",
      "0     1\n",
      "1     2\n",
      "2    12\n",
      "3    32\n",
      "4    40\n",
      "dtype: int64\n",
      "314.8\n",
      "17.7426040929735\n"
     ]
    }
   ],
   "source": [
    "import pandas as pd\n",
    "x=pd.Series([40,32,12,2,1])\n",
    "print(x.mean())\n",
    "print(x.median())\n",
    "print(x.mode())\n",
    "print(x.var())\n",
    "print(x.std())"
   ]
  },
  {
   "cell_type": "code",
   "execution_count": 4,
   "metadata": {},
   "outputs": [
    {
     "name": "stdout",
     "output_type": "stream",
     "text": [
      "20.4\n",
      "1.0\n",
      "0    0\n",
      "1    1\n",
      "dtype: int64\n",
      "1980.2999999999997\n",
      "44.5005617942066\n"
     ]
    }
   ],
   "source": [
    "import pandas as pd\n",
    "x=pd.Series([0,1,1,0,100])\n",
    "print(x.mean())\n",
    "print(x.median())\n",
    "print(x.mode())\n",
    "print(x.var())\n",
    "print(x.std())"
   ]
  },
  {
   "cell_type": "code",
   "execution_count": 7,
   "metadata": {},
   "outputs": [
    {
     "name": "stdout",
     "output_type": "stream",
     "text": [
      "37.4\n",
      "22.0\n",
      "0      2\n",
      "1     20\n",
      "2     22\n",
      "3     42\n",
      "4    101\n",
      "dtype: int64\n",
      "1464.8\n",
      "38.27270567911289\n"
     ]
    }
   ],
   "source": []
  },
  {
   "cell_type": "code",
   "execution_count": 6,
   "metadata": {},
   "outputs": [
    {
     "name": "stdout",
     "output_type": "stream",
     "text": [
      "0.8\n",
      "1.0\n",
      "0    1\n",
      "dtype: int64\n",
      "0.2\n",
      "0.4472135954999579\n"
     ]
    }
   ],
   "source": [
    "import pandas as pd\n",
    "x=pd.Series([1,1,1,1,0])\n",
    "print(x.mean())\n",
    "print(x.median())\n",
    "print(x.mode())\n",
    "print(x.var())\n",
    "print(x.std())\n",
    " "
   ]
  },
  {
   "cell_type": "code",
   "execution_count": 2,
   "metadata": {},
   "outputs": [
    {
     "name": "stdout",
     "output_type": "stream",
     "text": [
      "1387.111111111111\n",
      "124.0\n",
      "0       9\n",
      "1      30\n",
      "2      43\n",
      "3     100\n",
      "4     124\n",
      "5     532\n",
      "6     651\n",
      "7    3121\n",
      "8    7874\n",
      "dtype: int64\n",
      "6894856.61111111\n",
      "2625.8058974553146\n",
      "56.666666666666664\n",
      "54.0\n",
      "0     12\n",
      "1     22\n",
      "2     32\n",
      "3     45\n",
      "4     54\n",
      "5     65\n",
      "6     78\n",
      "7     99\n",
      "8    103\n",
      "dtype: int64\n",
      "1051.5\n",
      "32.42684073418192\n",
      "252.57142857142858\n",
      "123.0\n",
      "0     54\n",
      "1     55\n",
      "2     67\n",
      "3    123\n",
      "4    234\n",
      "5    345\n",
      "6    890\n",
      "dtype: int64\n",
      "90815.61904761905\n",
      "301.35629916698116\n"
     ]
    }
   ],
   "source": [
    "import pandas as pd\n",
    "x1=pd.Series([100,124,3121,651,30,7874,43,532,9])\n",
    "x2=pd.Series([12,54,32,78,65,45,22,99,103])\n",
    "x3=pd.Series([123,234,345,54,67,890,55])\n",
    "print(x1.mean())\n",
    "print(x1.median())\n",
    "print(x1.mode())\n",
    "print(x1.var())\n",
    "print(x1.std())\n",
    "print(x2.mean())\n",
    "print(x2.median())\n",
    "print(x2.mode())\n",
    "print(x2.var())\n",
    "print(x2.std())\n",
    "print(x3.mean())\n",
    "print(x3.median())\n",
    "print(x3.mode())\n",
    "print(x3.var())\n",
    "print(x3.std())\n",
    " "
   ]
  },
  {
   "cell_type": "code",
   "execution_count": 6,
   "metadata": {},
   "outputs": [
    {
     "name": "stdout",
     "output_type": "stream",
     "text": [
      "24.5\n",
      "24.0\n",
      "0     8\n",
      "1    12\n",
      "2    23\n",
      "3    25\n",
      "4    34\n",
      "5    45\n",
      "dtype: int64\n",
      "188.3\n",
      "13.722244714331545\n",
      "20.166666666666668\n",
      "19.5\n",
      "0     4\n",
      "1    11\n",
      "2    13\n",
      "3    26\n",
      "4    29\n",
      "5    38\n",
      "dtype: int64\n",
      "165.36666666666667\n",
      "12.859497138950134\n"
     ]
    },
    {
     "data": {
      "image/png": "[encoded data removed]",
      "text/plain": [
       "<Figure size 432x288 with 1 Axes>"
      ]
     },
     "metadata": {
      "needs_background": "light"
     },
     "output_type": "display_data"
    }
   ],
   "source": [
    "import matplotlib.pyplot as plt\n",
    "plt.bar('x1','x2')\n",
    "plt.xlabel('x1')\n",
    "plt.ylabel('x2')\n",
    "import pandas as pd\n",
    "x1=pd.Series([25,34,12,45,8,23])\n",
    "x2=pd.Series([13,26,38,11,4,29])\n",
    "print(x1.mean())\n",
    "print(x1.median())\n",
    "print(x1.mode())\n",
    "print(x1.var())\n",
    "print(x1.std())\n",
    "print(x2.mean())\n",
    "print(x2.median())\n",
    "print(x2.mode())\n",
    "print(x2.var())\n",
    "print(x2.std())\n",
    "plt.show()"
   ]
  },
  {
   "cell_type": "code",
   "execution_count": 9,
   "metadata": {},
   "outputs": [
    {
     "name": "stdout",
     "output_type": "stream",
     "text": [
      "37.4\n",
      "22.0\n",
      "1464.8\n",
      "38.27270567911289\n"
     ]
    }
   ],
   "source": [
    "import pandas as pd\n",
    "x=pd.Series([42,2,20,101,22])\n",
    "print(x.mean())\n",
    "print(x.median())\n",
    "print(x.var())\n",
    "print(x.std())"
   ]
  },
  {
   "cell_type": "code",
   "execution_count": 11,
   "metadata": {},
   "outputs": [
    {
     "data": {
      "image/png": "[encoded data removed]",
      "text/plain": [
       "<Figure size 432x288 with 1 Axes>"
      ]
     },
     "metadata": {},
     "output_type": "display_data"
    }
   ],
   "source": [
    "import matplotlib.pyplot as plt\n",
    "import numpy as np\n",
    "a=np.array([37,22,1464,38])\n",
    "co=[\"r\",\"b\",\"green\",\"y\"]\n",
    "l=[\"mean\",\"median\",\"var\",\"std\"]\n",
    "plt.pie(a,colors=co,labels=l)\n",
    "plt.legend()\n",
    "plt.show()"
   ]
  },
  {
   "cell_type": "code",
   "execution_count": 12,
   "metadata": {},
   "outputs": [
    {
     "data": {
      "image/png": "[encoded data removed]",
      "text/plain": [
       "<Figure size 432x288 with 1 Axes>"
      ]
     },
     "metadata": {
      "needs_background": "light"
     },
     "output_type": "display_data"
    }
   ],
   "source": [
    "import matplotlib.pyplot as plt\n",
    "import numpy as np\n",
    "a=np.array([37,22,1464,38])\n",
    "l=[\"mean\",\"median\",\"variance\",\"standard deviation\"]\n",
    "plt.bar(l,a)\n",
    "plt.xlabel(\"l\")\n",
    "plt.ylabel(\"a\")\n",
    "plt.show()"
   ]
  },
  {
   "cell_type": "code",
   "execution_count": 14,
   "metadata": {},
   "outputs": [
    {
     "data": {
      "image/png": "[encoded data removed]",
      "text/plain": [
       "<Figure size 432x288 with 1 Axes>"
      ]
     },
     "metadata": {
      "needs_background": "light"
     },
     "output_type": "display_data"
    }
   ],
   "source": [
    "import matplotlib.pyplot as plt\n",
    "import numpy as np\n",
    "a=np.array([37,22,1464,38])\n",
    "l=[\"mean\",\"median\",\"variance\",\"standard deviation\"]\n",
    "plt.hist(l)\n",
    "plt.xlabel(\"l\")\n",
    "plt.ylabel(\"a\")\n",
    "plt.show()"
   ]
  },
  {
   "cell_type": "code",
   "execution_count": null,
   "metadata": {},
   "outputs": [],
   "source": [
    "import matplotlib.pyplot as plt\n",
    "import numpy as np\n",
    "a=np.array([37,22,1464,38])\n",
    "l=[\"mean\",\"median\",\"variance\",\"standard deviation\"]\n",
    "plt.bar(l,a)\n",
    "plt.xlabel(\"l\")\n",
    "plt.ylabel(\"a\")\n",
    "plt.show()\n"
   ]
  },
  {
   "cell_type": "code",
   "execution_count": null,
   "metadata": {},
   "outputs": [],
   "source": []
  }
 ],
 "metadata": {
  "kernelspec": {
   "display_name": "Python 3",
   "language": "python",
   "name": "python3"
  },
  "language_info": {
   "codemirror_mode": {
    "name": "ipython",
    "version": 3
   },
   "file_extension": ".py",
   "mimetype": "text/x-python",
   "name": "python",
   "nbconvert_exporter": "python",
   "pygments_lexer": "ipython3",
   "version": "3.7.4"
  }
 },
 "nbformat": 4,
 "nbformat_minor": 2
}
